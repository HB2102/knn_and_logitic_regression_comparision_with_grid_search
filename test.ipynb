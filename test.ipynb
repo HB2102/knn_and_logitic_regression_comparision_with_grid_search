{
 "cells": [
  {
   "cell_type": "markdown",
   "metadata": {},
   "source": [
    "## Test the Save Model From \"KNN_and_Logistic_regression_comparision.ipynb\" File With Handmade Teas Picture"
   ]
  },
  {
   "cell_type": "markdown",
   "metadata": {},
   "source": [
    "### Load the Model"
   ]
  },
  {
   "cell_type": "code",
   "execution_count": 1,
   "metadata": {},
   "outputs": [],
   "source": [
    "import pickle \n",
    "\n",
    "with open('final_knn_model.pkl', 'rb') as f:\n",
    "    knn = pickle.load(f)"
   ]
  },
  {
   "cell_type": "code",
   "execution_count": 2,
   "metadata": {},
   "outputs": [
    {
     "name": "stdout",
     "output_type": "stream",
     "text": [
      "['3']\n"
     ]
    }
   ],
   "source": [
    "import matplotlib.pyplot as plt\n",
    "import numpy as np\n",
    "\n",
    "img = plt.imread(\"3.bmp\")[:,:,0]\n",
    "X_test = np.ravel(img)\n",
    "\n",
    "print(knn.predict([X_test]))"
   ]
  },
  {
   "cell_type": "markdown",
   "metadata": {},
   "source": [
    "### Load Pictures and Prdeict and See Results"
   ]
  },
  {
   "cell_type": "code",
   "execution_count": 24,
   "metadata": {},
   "outputs": [
    {
     "name": "stdout",
     "output_type": "stream",
     "text": [
      "Actual Number\t Predicted Number\n",
      "0\t\t 0\n",
      "1\t\t 2\n",
      "2\t\t 2\n",
      "3\t\t 3\n",
      "4\t\t 7\n",
      "5\t\t 8\n",
      "6\t\t 6\n",
      "7\t\t 2\n",
      "8\t\t 8\n",
      "9\t\t 0\n"
     ]
    }
   ],
   "source": [
    "from sklearn.preprocessing import StandardScaler\n",
    "\n",
    "scaler = StandardScaler()\n",
    "print('Actual Number\\t Predicted Number')\n",
    "\n",
    "for i in range (0,10):\n",
    "    img = plt.imread(f\"{i}.bmp\")[:,:,0]\n",
    "    X_test = np.ravel(img)\n",
    "    # scales_x = scaler.fit_transform([X_test])\n",
    "    pred = knn.predict([X_test])\n",
    "\n",
    "    print(f\"{i}\\t\\t {pred[0]}\")"
   ]
  },
  {
   "cell_type": "code",
   "execution_count": null,
   "metadata": {},
   "outputs": [],
   "source": []
  }
 ],
 "metadata": {
  "kernelspec": {
   "display_name": ".venv",
   "language": "python",
   "name": "python3"
  },
  "language_info": {
   "codemirror_mode": {
    "name": "ipython",
    "version": 3
   },
   "file_extension": ".py",
   "mimetype": "text/x-python",
   "name": "python",
   "nbconvert_exporter": "python",
   "pygments_lexer": "ipython3",
   "version": "3.10.12"
  }
 },
 "nbformat": 4,
 "nbformat_minor": 2
}
